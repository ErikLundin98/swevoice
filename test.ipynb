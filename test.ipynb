{
 "cells": [
  {
   "cell_type": "code",
   "execution_count": 14,
   "metadata": {},
   "outputs": [],
   "source": [
    "# create new metadata files\n",
    "import pandas as pd\n",
    "\n",
    "fname = 'train'\n",
    "\n",
    "df = pd.read_csv('data/' + fname + '.tsv', sep='\\t')\n",
    "\n",
    "def replace_ext(x):\n",
    "    x = x.split('.')[0]\n",
    "    x += '.wav'\n",
    "    return x\n",
    "\n",
    "df['path'] = df['path'].apply(replace_ext)\n",
    "\n",
    "df.to_csv('data/'+fname+'.csv')"
   ]
  },
  {
   "cell_type": "code",
   "execution_count": 7,
   "metadata": {},
   "outputs": [
    {
     "data": {
      "text/plain": [
       "0        common_voice_sv-SE_23754714.wav\n",
       "1        common_voice_sv-SE_25219864.wav\n",
       "2        common_voice_sv-SE_24964450.wav\n",
       "3        common_voice_sv-SE_24965872.wav\n",
       "4        common_voice_sv-SE_26980457.wav\n",
       "                      ...               \n",
       "38393    common_voice_sv-SE_27506013.wav\n",
       "38394    common_voice_sv-SE_27506015.wav\n",
       "38395    common_voice_sv-SE_27506778.wav\n",
       "38396    common_voice_sv-SE_27506779.wav\n",
       "38397    common_voice_sv-SE_27506780.wav\n",
       "Name: path, Length: 38398, dtype: object"
      ]
     },
     "execution_count": 7,
     "metadata": {},
     "output_type": "execute_result"
    }
   ],
   "source": [
    "df['path']"
   ]
  },
  {
   "cell_type": "code",
   "execution_count": 1,
   "metadata": {},
   "outputs": [
    {
     "name": "stderr",
     "output_type": "stream",
     "text": [
      "100%|██████████| 62490/62490 [1:26:07<00:00, 12.09it/s]\n"
     ]
    }
   ],
   "source": [
    "import os\n",
    "from pydub import AudioSegment\n",
    "from tqdm.auto import tqdm\n",
    "path = \"data/clips\"\n",
    "\n",
    "#Change working directory\n",
    "os.chdir(path)\n",
    "\n",
    "audio_files = os.listdir()\n",
    "\n",
    "# You dont need the number of files in the folder, just iterate over them directly using:\n",
    "for file in tqdm(audio_files):\n",
    "    #spliting the file into the name and the extension\n",
    "    name, ext = os.path.splitext(file)\n",
    "    if ext == \".mp3\":\n",
    "       mp3_sound = AudioSegment.from_mp3(file)\n",
    "       #rename them using the old name + \".wav\"\n",
    "       mp3_sound.export(\"{0}.wav\".format(name), format=\"wav\")"
   ]
  },
  {
   "cell_type": "code",
   "execution_count": null,
   "metadata": {},
   "outputs": [],
   "source": [
    "from pydub import AudioSegment\n",
    "\n",
    "sound = AudioSegment.from_mp3('')"
   ]
  },
  {
   "cell_type": "code",
   "execution_count": 4,
   "metadata": {},
   "outputs": [
    {
     "data": {
      "text/plain": [
       "{'AIFF': 'AIFF (Apple/SGI)',\n",
       " 'AU': 'AU (Sun/NeXT)',\n",
       " 'AVR': 'AVR (Audio Visual Research)',\n",
       " 'CAF': 'CAF (Apple Core Audio File)',\n",
       " 'FLAC': 'FLAC (Free Lossless Audio Codec)',\n",
       " 'HTK': 'HTK (HMM Tool Kit)',\n",
       " 'SVX': 'IFF (Amiga IFF/SVX8/SV16)',\n",
       " 'MAT4': 'MAT4 (GNU Octave 2.0 / Matlab 4.2)',\n",
       " 'MAT5': 'MAT5 (GNU Octave 2.1 / Matlab 5.0)',\n",
       " 'MPC2K': 'MPC (Akai MPC 2k)',\n",
       " 'OGG': 'OGG (OGG Container format)',\n",
       " 'PAF': 'PAF (Ensoniq PARIS)',\n",
       " 'PVF': 'PVF (Portable Voice Format)',\n",
       " 'RAW': 'RAW (header-less)',\n",
       " 'RF64': 'RF64 (RIFF 64)',\n",
       " 'SD2': 'SD2 (Sound Designer II)',\n",
       " 'SDS': 'SDS (Midi Sample Dump Standard)',\n",
       " 'IRCAM': 'SF (Berkeley/IRCAM/CARL)',\n",
       " 'VOC': 'VOC (Creative Labs)',\n",
       " 'W64': 'W64 (SoundFoundry WAVE 64)',\n",
       " 'WAV': 'WAV (Microsoft)',\n",
       " 'NIST': 'WAV (NIST Sphere)',\n",
       " 'WAVEX': 'WAVEX (Microsoft)',\n",
       " 'WVE': 'WVE (Psion Series 3)',\n",
       " 'XI': 'XI (FastTracker 2)'}"
      ]
     },
     "execution_count": 4,
     "metadata": {},
     "output_type": "execute_result"
    }
   ],
   "source": [
    "import soundfile as sf\n",
    "sf.available_formats()"
   ]
  },
  {
   "cell_type": "code",
   "execution_count": 1,
   "metadata": {},
   "outputs": [],
   "source": [
    "from dataset import CommonVoiceDataset\n",
    "import os\n",
    "\n",
    "dataset = CommonVoiceDataset(os.path.join(os.getcwd(), 'data'), tsv_file='validated.csv')"
   ]
  },
  {
   "cell_type": "code",
   "execution_count": 12,
   "metadata": {},
   "outputs": [
    {
     "data": {
      "text/plain": [
       "torch.Size([1, 40, 680])"
      ]
     },
     "execution_count": 12,
     "metadata": {},
     "output_type": "execute_result"
    }
   ],
   "source": [
    "dataset[1][0].shape"
   ]
  }
 ],
 "metadata": {
  "interpreter": {
   "hash": "69b9dc350c63e66cb31c5a7eddc1d94c958a9a2817f24b93c9f8203d71d9adff"
  },
  "kernelspec": {
   "display_name": "Python 3.8.6 64-bit",
   "language": "python",
   "name": "python3"
  },
  "language_info": {
   "codemirror_mode": {
    "name": "ipython",
    "version": 3
   },
   "file_extension": ".py",
   "mimetype": "text/x-python",
   "name": "python",
   "nbconvert_exporter": "python",
   "pygments_lexer": "ipython3",
   "version": "3.8.6"
  },
  "orig_nbformat": 4
 },
 "nbformat": 4,
 "nbformat_minor": 2
}
