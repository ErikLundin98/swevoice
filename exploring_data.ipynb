{
 "cells": [
  {
   "cell_type": "code",
   "execution_count": 7,
   "metadata": {},
   "outputs": [
    {
     "data": {
      "text/plain": [
       "(7302, 5045, 5005, 38398)"
      ]
     },
     "execution_count": 7,
     "metadata": {},
     "output_type": "execute_result"
    }
   ],
   "source": [
    "import pandas as pd\n",
    "from os.path import join as pjoin\n",
    "import os\n",
    "\n",
    "corpus_path = pjoin(os.getcwd(), \"data\")\n",
    "train = pd.read_csv(pjoin(corpus_path, \"train.tsv\"), sep='\\t')\n",
    "test = pd.read_csv(pjoin(corpus_path, \"test.tsv\"), sep='\\t')\n",
    "dev = pd.read_csv(pjoin(corpus_path, \"dev.tsv\"), sep='\\t')\n",
    "validated = pd.read_csv(pjoin(corpus_path, \"validated.tsv\"), sep='\\t')\n",
    "len(train), len(test), len(dev), len(validated)"
   ]
  },
  {
   "cell_type": "markdown",
   "metadata": {},
   "source": [
    "We are interested in the validated dataset"
   ]
  },
  {
   "cell_type": "code",
   "execution_count": 8,
   "metadata": {},
   "outputs": [
    {
     "data": {
      "text/html": [
       "<div>\n",
       "<style scoped>\n",
       "    .dataframe tbody tr th:only-of-type {\n",
       "        vertical-align: middle;\n",
       "    }\n",
       "\n",
       "    .dataframe tbody tr th {\n",
       "        vertical-align: top;\n",
       "    }\n",
       "\n",
       "    .dataframe thead th {\n",
       "        text-align: right;\n",
       "    }\n",
       "</style>\n",
       "<table border=\"1\" class=\"dataframe\">\n",
       "  <thead>\n",
       "    <tr style=\"text-align: right;\">\n",
       "      <th></th>\n",
       "      <th>client_id</th>\n",
       "      <th>path</th>\n",
       "      <th>sentence</th>\n",
       "      <th>up_votes</th>\n",
       "      <th>down_votes</th>\n",
       "      <th>age</th>\n",
       "      <th>gender</th>\n",
       "      <th>accents</th>\n",
       "      <th>locale</th>\n",
       "      <th>segment</th>\n",
       "    </tr>\n",
       "  </thead>\n",
       "  <tbody>\n",
       "    <tr>\n",
       "      <th>0</th>\n",
       "      <td>08ba63cf2e3e2cd5aa1661c5b420e190e6b410d096dae0...</td>\n",
       "      <td>common_voice_sv-SE_23754714.mp3</td>\n",
       "      <td>De måste lägga husen tätt tillsammans, med gav...</td>\n",
       "      <td>2</td>\n",
       "      <td>0</td>\n",
       "      <td>NaN</td>\n",
       "      <td>NaN</td>\n",
       "      <td>NaN</td>\n",
       "      <td>sv-SE</td>\n",
       "      <td>NaN</td>\n",
       "    </tr>\n",
       "    <tr>\n",
       "      <th>1</th>\n",
       "      <td>17ad3de43b9c48236ca759748a352de6379d31e3b5a373...</td>\n",
       "      <td>common_voice_sv-SE_25219864.mp3</td>\n",
       "      <td>Men jag skulle vilja gå till operan med dig fö...</td>\n",
       "      <td>2</td>\n",
       "      <td>0</td>\n",
       "      <td>thirties</td>\n",
       "      <td>male</td>\n",
       "      <td>NaN</td>\n",
       "      <td>sv-SE</td>\n",
       "      <td>NaN</td>\n",
       "    </tr>\n",
       "    <tr>\n",
       "      <th>2</th>\n",
       "      <td>1f1289b494a38d134027e59294e16503b1402573e67697...</td>\n",
       "      <td>common_voice_sv-SE_24964450.mp3</td>\n",
       "      <td>Båtar kan dela med sig av sin position med hjä...</td>\n",
       "      <td>2</td>\n",
       "      <td>1</td>\n",
       "      <td>NaN</td>\n",
       "      <td>NaN</td>\n",
       "      <td>NaN</td>\n",
       "      <td>sv-SE</td>\n",
       "      <td>NaN</td>\n",
       "    </tr>\n",
       "    <tr>\n",
       "      <th>3</th>\n",
       "      <td>229d70bf07fc8ab38a37513376cb44286312c23afb5491...</td>\n",
       "      <td>common_voice_sv-SE_24965872.mp3</td>\n",
       "      <td>Säg det fort!</td>\n",
       "      <td>2</td>\n",
       "      <td>1</td>\n",
       "      <td>NaN</td>\n",
       "      <td>NaN</td>\n",
       "      <td>NaN</td>\n",
       "      <td>sv-SE</td>\n",
       "      <td>NaN</td>\n",
       "    </tr>\n",
       "    <tr>\n",
       "      <th>4</th>\n",
       "      <td>30335a66c73f9d28a628c5c38784a85ae1aca36e63b7c6...</td>\n",
       "      <td>common_voice_sv-SE_26980457.mp3</td>\n",
       "      <td>Partiet var under riksdagsspärren i den senast...</td>\n",
       "      <td>2</td>\n",
       "      <td>0</td>\n",
       "      <td>NaN</td>\n",
       "      <td>NaN</td>\n",
       "      <td>NaN</td>\n",
       "      <td>sv-SE</td>\n",
       "      <td>NaN</td>\n",
       "    </tr>\n",
       "  </tbody>\n",
       "</table>\n",
       "</div>"
      ],
      "text/plain": [
       "                                           client_id  \\\n",
       "0  08ba63cf2e3e2cd5aa1661c5b420e190e6b410d096dae0...   \n",
       "1  17ad3de43b9c48236ca759748a352de6379d31e3b5a373...   \n",
       "2  1f1289b494a38d134027e59294e16503b1402573e67697...   \n",
       "3  229d70bf07fc8ab38a37513376cb44286312c23afb5491...   \n",
       "4  30335a66c73f9d28a628c5c38784a85ae1aca36e63b7c6...   \n",
       "\n",
       "                              path  \\\n",
       "0  common_voice_sv-SE_23754714.mp3   \n",
       "1  common_voice_sv-SE_25219864.mp3   \n",
       "2  common_voice_sv-SE_24964450.mp3   \n",
       "3  common_voice_sv-SE_24965872.mp3   \n",
       "4  common_voice_sv-SE_26980457.mp3   \n",
       "\n",
       "                                            sentence  up_votes  down_votes  \\\n",
       "0  De måste lägga husen tätt tillsammans, med gav...         2           0   \n",
       "1  Men jag skulle vilja gå till operan med dig fö...         2           0   \n",
       "2  Båtar kan dela med sig av sin position med hjä...         2           1   \n",
       "3                                      Säg det fort!         2           1   \n",
       "4  Partiet var under riksdagsspärren i den senast...         2           0   \n",
       "\n",
       "        age gender accents locale segment  \n",
       "0       NaN    NaN     NaN  sv-SE     NaN  \n",
       "1  thirties   male     NaN  sv-SE     NaN  \n",
       "2       NaN    NaN     NaN  sv-SE     NaN  \n",
       "3       NaN    NaN     NaN  sv-SE     NaN  \n",
       "4       NaN    NaN     NaN  sv-SE     NaN  "
      ]
     },
     "execution_count": 8,
     "metadata": {},
     "output_type": "execute_result"
    }
   ],
   "source": [
    "validated.head()"
   ]
  },
  {
   "cell_type": "code",
   "execution_count": 10,
   "metadata": {},
   "outputs": [
    {
     "name": "stdout",
     "output_type": "stream",
     "text": [
      "playing audio with annotated text 'Danskarna tog först över universiteten'\n"
     ]
    }
   ],
   "source": [
    "from playsound import playsound\n",
    "sample = 16\n",
    "example_audio = str(pjoin(corpus_path, \"clips\", validated[\"path\"][sample]))\n",
    "print(f\"playing audio with annotated text '{validated['sentence'][sample]}'\")\n",
    "playsound(example_audio)"
   ]
  }
 ],
 "metadata": {
  "interpreter": {
   "hash": "a1aad162fed57ee1c42181618a6ce5329803bbdda596b22de10223e5dfd18c69"
  },
  "kernelspec": {
   "display_name": "Python 3.9.7 ('base')",
   "language": "python",
   "name": "python3"
  },
  "language_info": {
   "codemirror_mode": {
    "name": "ipython",
    "version": 3
   },
   "file_extension": ".py",
   "mimetype": "text/x-python",
   "name": "python",
   "nbconvert_exporter": "python",
   "pygments_lexer": "ipython3",
   "version": "3.9.7"
  },
  "orig_nbformat": 4
 },
 "nbformat": 4,
 "nbformat_minor": 2
}
